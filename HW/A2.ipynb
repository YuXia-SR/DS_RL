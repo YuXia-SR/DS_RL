{
 "cells": [
  {
   "cell_type": "markdown",
   "metadata": {},
   "source": [
    "## DS-UA 301 Assignment 2"
   ]
  },
  {
   "cell_type": "markdown",
   "metadata": {},
   "source": [
    "Welcome back! In this notebook, we will explore and practice several foundational concepts and techniques in Natural Language Processing, specifically in the \"operate\" stage: \n",
    "+ Transforming documents into numbers\n",
    "+ Characterising documents\n",
    "+ Comparing documents \n",
    "+ Sentiment analysis\n",
    "\n",
    "We'll also *continue to* think about approaching our NLP work from a hypothesis-driven approach. I know you're probably sick of this, but I cannot overstate how important and useful it is to be super comfortable with thinking like this for all things job, discovery, and satisfaction-related (I think my claims are getting bolder as we go, but I stand by them!).\n",
    "\n",
    "Some tips (mostly the same as before, but good reminders): \n",
    "+ As with Assignment 1, you may use any data you like (built-in NLTK or something else!) as long as you are able to complete all the prompts below.\n",
    "+ As with Assignment 1, you're welcome to use a subset or the full dataset you plan to use for the project. No need to do the same thing twice. If you're still working on collecting your data, I suggest working with a \"toy\" mini-set (again, as long as it's big enough to complete the prompts).\n",
    "+ As before, while we will be grading you for correctness and completeness; i.e., you must correctly complete the specific tasks we ask of you, there is rarely a single \"right answer\" when it comes to *which* strategy to use. We care more that you thoughtfully and transparently explain your reasoning, rather than worrying whether you're \"right\".\n",
    "+ As before, 2-3 sentences (at most!) for the non-code questions should generally be enough. No need for essays!\n",
    "\n",
    "Finally, each question is worth 1 point, for 60 points total."
   ]
  },
  {
   "cell_type": "markdown",
   "metadata": {},
   "source": [
    "## 1. Any pre-processing needed"
   ]
  },
  {
   "cell_type": "markdown",
   "metadata": {},
   "source": [
    "(a) We are going to begin this assignment from text that has already been pre-processed. You may thus use your text and/or program from Assignment 1 to pre-process your text here (no need to comment or explain anything, as you already did that). If you're using brand new text, you might need to do a bit more work, but a little extra practice won't work.\n",
    "\n",
    "Complete any pre-processing you need to do here, whether it's copying over your work from Assignment 1 or borrowing some of it as you apply it to a new text. \n",
    "\n",
    "*(Recap: what counts as pre-processing? Everything you did in Assignment 1!)*"
   ]
  },
  {
   "cell_type": "code",
   "execution_count": 1,
   "metadata": {},
   "outputs": [
    {
     "name": "stderr",
     "output_type": "stream",
     "text": [
      "[nltk_data] Downloading package stopwords to /Users/yuxia/nltk_data...\n",
      "[nltk_data]   Package stopwords is already up-to-date!\n",
      "[nltk_data] Downloading package punkt to /Users/yuxia/nltk_data...\n",
      "[nltk_data]   Package punkt is already up-to-date!\n"
     ]
    },
    {
     "data": {
      "text/plain": [
       "True"
      ]
     },
     "execution_count": 1,
     "metadata": {},
     "output_type": "execute_result"
    }
   ],
   "source": [
    "# load dependencies\n",
    "import string\n",
    "from nltk.corpus import stopwords\n",
    "import nltk\n",
    "nltk.download('stopwords')\n",
    "from nltk.tokenize import word_tokenize\n",
    "nltk.download('punkt')"
   ]
  },
  {
   "cell_type": "code",
   "execution_count": 44,
   "metadata": {},
   "outputs": [],
   "source": [
    "text1 = \"\"\"The popularity of data science attracts a lot of people from a wide range of professions to make a career change with the goal of becoming a data scientist.Despite the high demand for data scientists, it is a highly challenging task to find your first job. Unless you have a solid prior job experience, interviews are where you can show you skills and impress your potential employer.Data science is an interdisciplinary field which covers a broad range of topics and concepts. Thus, the number of questions that you might be asked at an interview is very high.However, there are some questions about the fundamentals in data science and machine learning. These are the ones you do not want to miss. In this article, we will go over 10 questions that are likely to be asked at a data scientist interview.The questions are grouped into 3 main categories which are machine learning, Python, and SQL. I will try to provide a brief answer for each question. However, I suggest reading or studying each one in more detail afterwards.Overfitting in machine learning occurs when your model is not generalized well. The model is too focused on the training set. It captures a lot of detail or even noise in the training set. Thus, it fails to capture the general trend or the relationships in the data. If a model is too complex compared to the data, it will probably be overfitting.A strong indicator of overfitting is the high difference between the accuracy of training and test sets. Overfit models usually have very high accuracy on the training set but the test accuracy is usually unpredictable and much lower than the training accuracy.We can reduce overfitting by making the model more generalized which means it should be more focused on the general trend rather than specific details.If it is possible, collecting more data is an efficient way to reduce overfitting. You will be giving more juice to the model so it will have more material to learn from. Data is always valuable especially for machine learning models.Another method to reduce overfitting is to reduce the complexity of the model. If a model is too complex for a given task, it will likely result in overfitting. In such cases, we should look for simpler models.We have mentioned that the main reason for overfitting is a model being more complex than necessary. Regularization is a method for reducing the model complexity.It does so by penalizing higher terms in the model. With the addition of a regularization term, the model tries to minimize both loss and complexity.Two main types of regularization are L1 and L2 regularization. L1 regularization subtracts a small amount from the weights of uninformative features at each iteration. Thus, it causes these weights to eventually become zero.On the other hand, L2 regularization removes a small percentage from the weights at each iteration. These weights will get closer to zero but never actually become 0.Both are machine learning tasks. Classification is a supervised learning task so we have labelled observations (i.e. data points). We train a model with labelled data and expect it to predict the labels of new data.For instance, spam email detection is a classification task. We provide a model with several emails marked as spam or not spam. After the model is trained with those emails, it will evaluate the new emails appropriately.Clustering is an unsupervised learning task so the observations do not have any labels. The model is expected to evaluate the observations and group them into clusters. Similar observations are placed into the same cluster.In the optimal case, the observations in the same cluster are as close to each other as possible and the different clusters are as far apart as possible. An example of a clustering task would be grouping customers based on their shopping behavior.The built-in data structures are of crucial importance. Thus, you should be familiar with what they are and how to interact with them. List, dictionary, set, and tuple are 4 main built-in data structures in Python.The main difference between lists and tuples is mutability. Lists are mutable so we can manipulate them by adding or removing items.On the other hand, tuples are immutable. Although we can access each element in a tuple, we cannot modify its content.One important point to mention here is that although tuples are immutable, they can contain mutable elements such as lists or sets.Let’s do an example to demonstrate the main difference between lists and sets.As we notice in the resulting objects, the list contains all the characters in the string whereas the set only contains unique values.Another difference is that the characters in the list are ordered based on their location in the string. However, there is no order associated with the characters in the set.Here is a table that summarizes the main characteristics of lists, tuples, and sets.A dictionary in Python is a collection of key-value pairs. It is similar to a list in the sense that each item in a list has an associated index starting from 0.In a dictionary, we have keys as the index. Thus, we can access a value by using its key.The keys in a dictionary are unique which makes sense because they act like an address for the values.SQL is an extremely important skill for data scientists. There are quite a number of companies that store their data in a relational database. SQL is what is needed to interact with relational databases.You will probably be asked a question that involves writing a query to perform a specific task. You might also be asked a question about general database knowledge.Consider we have a sales table that contains daily sales quantities of products.Find the top 5 weeks in terms of total weekly sales quantities.We first extract the year and week information from the date column and then use it in the aggregation. The sum function is used to calculate the total sales quantities.In the same sales table, find the number of unique items that are sold each month.These terms are related to database schema design. Normalization and denormalization aim to optimize different metrics.The goal of normalization is to reduce data redundancy and inconsistency by increasing the number of tables. On the other hand, denormalization aims to speed up the query execution. Denormalization decreases the number of tables but at the same time, it adds some redundancy.It is a challenging task to become a data scientist. It requires time, effort, and dedication. Without having prior job experience, the process gets harder.Interviews are very important to demonstrate your skills. In this article, we have covered 10 questions that you are likely to encounter in a data scientist interview.Thank you for reading. Please let me know if you have any feedback.\"\"\"\n",
    "text2 = \"\"\"This tutorial covers the following three advanced programming tricks on Python functions:A nested function is a function within another function. Due to scope rules, usually a nested function cannot be invoked outside the container function.Nested functions can be used when a repeated operation should be run inside and only inside a function. The following example defines a function, which receives as input two strings, manipulates them and returns them.Test the function on two strings:which gives the following output:A nested function can be also returned by the outer function.Consider the following trivial function, which receives as input a number and returns as a function, which converts a string to lowercase and, then, if the string length is greater than n, it truncates the string to n-1. The function returns the inner function.Now, I can invoke the function and assign the returning value to a variable, which will contain the inner function.And then, I can invoke the inner function with different strings:which gives the following outputs:The previous example demonstrates how nested functions can be used when you have some general parameters, which can be initialisated by the outer function, and then specific parameters can be used within the inner function.Usually a function is invoked with a fixed number of parameters, including default ones. However, Python provides a mechanism, which permits to invoke a function with a potential unlimited number of parameters.There are two types of variable parameters:The following example shows how to concatenate a variable number of strings by exploiting *args:And now I test the function with a variable number of parameters. With two parameters:which gives the following output:And with three parameters:which gives the following output:The following example shows how to exploit the **kargs parameter. I define a class Configuration, which contains three parameters: alpha, beta and gamma. The class provides method, called configure() which can receive as input a variable number of parameters, which correspond to the configuration parameters of the class. The user can decide whether to set all the configuration parameters or only a subset of them.The class Configuration also provides a method, called print_configuration(), which prints the current status of the instance.I can create a Configuration() object and then I can decide, for example, to set only the alpha parameter:I print the current configuration to make sure that the alpha parameter has been set:which gives the following output:Now I can set the alpha and the beta parameters:which gives the following output:A lambda function is an inline function, which can be used to run simple and repetitive operations, such well-known math operations.The following snippet of code shows how to calculate the Pythagorean theorem through a lambda function:I can test the function as follows:which gives the following output:In this tutorial, I have illustrated some tricks on Python functions, including nested functions, variable parameters and lambda functions.You can download the full code of this tutorial from my Github repository.To keep updated on my work, you can follow me on Twitter, Github, Youtube or my new Web Site.medium.comtowardsdatascience.commedium.com\"\"\"\n",
    "text3 = \"\"\"Five people were discovered dead inside a Colorado apartment — where a 4-month-old baby was also found alive — after what police are investigating as a possible drug-fueled party that turned fatal.\n",
    "The bodies of three women and two men were discovered inside a unit at the North Range Crossings Apartments on East 104th Avenue, Commerce City Police Chief Clint Nichols said, the Denver Post reported.\n",
    "Another adult and an infant were found alive, he added.\n",
    "A substance that “could be described as illicit narcotics” was found in the home, said Nichols, adding that further testing was planned.\n",
    "“If it is going to be illicit drugs, they were very, very bad,” he said, according to the news outlet. “If it was drugs, no one was able to get to a phone and call 911 for a medical emergency.\n",
    "“It happened pretty quickly — speculation on my part,” added the chief, who noted that it did not appear the victims died violently.\n",
    "There also was no indication of any hazardous gases in the area, Nichols said.\n",
    "Commerce City police officials say five people were found dead on the afternoon of February 20, 2022.\n",
    "Neighbor Ian Scott, 31, told the newspaper that he stepped outside when he heard screaming Sunday afternoon and saw a distraught woman holding a baby while talking on the phone.\n",
    "She appeared “high as a kite,” he said, adding that she told him she’d administered a drug used to reverse overdoses to a man in the apartment.  \n",
    "Scott said he heard what sounded like a party with music and loud noise late Saturday.\n",
    "Investigators were unsure if the infant’s parents were in the apartment and whether the five people found dead all lived there, Nichols said.\"\"\"\n",
    "text4 = \"\"\"A woman was stabbed in the stomach and another was attacked with a metal pole during a violent weekend on the Big Apple subway system, authorities said.At least six straphangers were assaulted between Saturday and early Monday.\n",
    "In the latest incident capping off the bloody weekend, a 30-year-old victim was chatting with a friend on a southbound 4 train near 167th Street in Highbridge around 3:15 a.m. when a man who appeared to be homeless told them to stop talking, police said. \n",
    "When they ignored his request, he struck the woman in the face with a metal pole, cops said. \n",
    "She got off the train at 167th Street and refused medical attention, police said. \n",
    "But her attacker – described as in his late 30s, with facial piercings and wearing all black – stayed on board. \n",
    "He was still at large later in the morning. \n",
    "Seven minutes earlier in Manhattan, a 22-year-old man was going through the turnstile for the shuttle to Grand Central at 42nd Street-Times Square when four men approached him, punched him in the face and stole his cellphone, cops said. \n",
    "Blood on walls.\n",
    "Blood is seen on the wall and floor in the Canal Street stabbing.\n",
    "Police at scene of Canal street subway stabbing.\n",
    "The Canal street stabbing suspect stayed on the train as it headed to the next station.\n",
    "No weapons were displayed, police said. \n",
    "The alleged muggers took off after the incident. \n",
    "The early Monday attacks came after a 31-year-old man was knifed twice in the arm in an unprovoked attack aboard a 6 train approaching the Canal Street station around 6:10 p.m. Sunday, cops said. \n",
    "police officers and detectives at the scene.\n",
    "Police officers and detectives at the scene of the Canal Street stabbing.\n",
    "The male suspect stayed on the train as it headed to the next station.\n",
    "The victim was taken to Bellevue Hospital in stable condition.\n",
    "A 20-year-old woman was also randomly attacked on Saturday around 2:50 p.m. while waiting for a northbound 3 train at Van Siclen Avenue in East New York — when a man punched her in the back unprovoked, authorities said. \n",
    "Man holds bloody nose.\n",
    "An elderly man was punched in face in an unprovoked attack on the 6 line subway at the Broadway-Lafayette station.\n",
    "Man walks out of subway station.\n",
    "The man was bleeding from his nose and mouth and taken to the hospital.\n",
    "When the victim tried to defend herself, the man displayed a knife and stabbed her three times in the stomach, police said. \n",
    "She was taken to an area hospital in stable condition. \n",
    "Cops released surveillance images of the suspect Sunday.\n",
    "Police at Broadway-Lafayette subway station.\n",
    "Police investigate at the Broadway-Lafayette station,\n",
    "Later that night, two men were slashed in Upper Manhattan subway stations – one in Washington Heights and the other in Morningside Heights, cops said. \n",
    "The incidents come as Mayor Eric Adams’ new subway safety plan is set to go into effect Monday.\n",
    "Teams of NYPD cops and outreach workers are set to start canvassing trains and subways stations across the city under the mayor’s plan to crack down on rule-breaking and eliminate homelessness.\n",
    "The teams will also seek to identify mentally ill and homeless people in a bid to stop them from living on trains and in the stations — and work to get them the treatment they need.\"\"\"\n",
    "def preprocess_text(text):\n",
    "    # turn to all lower case\n",
    "    text_lower = text.lower()\n",
    "    # delete punctuation\n",
    "    allowed_punct = ['\\'','\\\"','%','+','-','<','=','>','^','*','/','(',')','[',']',':']\n",
    "    punct = string.punctuation\n",
    "    for i in allowed_punct:\n",
    "        punct = punct.replace(i,\"\")\n",
    "    text_lower_nopunct = \"\"\n",
    "    for letter in text_lower:\n",
    "        if letter in punct:\n",
    "            text_lower_nopunct += \" \"\n",
    "        else:\n",
    "            text_lower_nopunct += letter\n",
    "    # tokenize the text\n",
    "    tokens = word_tokenize(text_lower_nopunct)\n",
    "\n",
    "    # accessing\n",
    "    stopword_list = stopwords.words('english')\n",
    "    # remove stop words\n",
    "    tokens_no_sw_nltk = []\n",
    "    for token in tokens:\n",
    "        if token not in stopword_list:\n",
    "            tokens_no_sw_nltk.append(token)\n",
    "    print(f'Tokens without Stopwords: {len(tokens_no_sw_nltk)}')\n",
    "    return tokens_no_sw_nltk"
   ]
  },
  {
   "cell_type": "code",
   "execution_count": 3,
   "metadata": {},
   "outputs": [
    {
     "name": "stdout",
     "output_type": "stream",
     "text": [
      "Tokens without Stopwords: 603\n",
      "Tokens without Stopwords: 324\n",
      "Tokens without Stopwords: 181\n",
      "Tokens without Stopwords: 336\n"
     ]
    }
   ],
   "source": [
    "tok_doc1 = preprocess_text(text1)\n",
    "tok_doc2 = preprocess_text(text2)\n",
    "tok_doc3 = preprocess_text(text3)\n",
    "tok_doc4 = preprocess_text(text4)\n",
    "data = []\n",
    "data.append(tok_doc1)\n",
    "data.append(tok_doc2)\n",
    "data.append(tok_doc3)\n",
    "data.append(tok_doc4)"
   ]
  },
  {
   "cell_type": "markdown",
   "metadata": {},
   "source": [
    "## 2. Transforming documents into numbers\n",
    "\n",
    "We're going to need to turn our documents into numbers in order to proceed. We'll take care of that in this step."
   ]
  },
  {
   "cell_type": "markdown",
   "metadata": {},
   "source": [
    "(a) First, to make sure we're clear on what we're doing here: What is the Bag of Words (BOW) assumption, and why do we use it? What's so useful about it?"
   ]
  },
  {
   "cell_type": "markdown",
   "metadata": {},
   "source": [
    "**We are creating a customized dictionary for documents using one hot encoding.**\n",
    "\n",
    "**Each word has a binary signal, at a fixed postion, to show whether this word is contained in the document. Thus, a document is converted to a one dimension vector with elements of 0 and 1, where 1 means that the corresponding word is in the document and 0 means that the corresponding word is not in the document.**\n",
    "\n",
    "**In this way, all document could be represented as a numeric vector for further analysis.**"
   ]
  },
  {
   "cell_type": "markdown",
   "metadata": {},
   "source": [
    "(b) What is at least one treadeoff, or shortcoming, when it comes to working under the BOW assumption?"
   ]
  },
  {
   "cell_type": "markdown",
   "metadata": {},
   "source": [
    "**Though BOW is easy to implement, it has the following shortcomings.**\n",
    "\n",
    "****When we have tons of documents or the document becomes quite large, we need to maintain a large vector with super high dimension so that each unique word owns its position in the vector. The computation and storage cost are some of the shortcomings, while it's also possible that the output vector for a single documents is quite sparse.**"
   ]
  },
  {
   "cell_type": "markdown",
   "metadata": {},
   "source": [
    "(c) It's time for our simplest expression of text as numeric data: the Document-Term Matrix (DTM). Convert your corpus into a DTM based simply on word counts. You may or may not have stop words and/or be working with stems/lemmas depending on your decisions you made in Question 1.\n",
    "\n",
    "*(Note: you can always go back and adjust your preprocessing decisions as you work through Assignment 2, just make sure to turn in the final product. There's no need to re-explain your pre-processing decisions in this Assignment, even if you tweak it as you go, as we got plenty of that last time and there's more to come in the project.)*"
   ]
  },
  {
   "cell_type": "code",
   "execution_count": 4,
   "metadata": {},
   "outputs": [],
   "source": [
    "# change tokenized words to a string\n",
    "data = [' '.join(doc) for doc in data]"
   ]
  },
  {
   "cell_type": "code",
   "execution_count": 5,
   "metadata": {},
   "outputs": [],
   "source": [
    "from sklearn.feature_extraction.text import CountVectorizer\n",
    "from sklearn.metrics.pairwise import cosine_similarity\n",
    "import pandas as pd\n",
    "\n",
    "cv = CountVectorizer(stop_words = 'english', min_df = 0.2, ngram_range = (1,1))\n",
    "corpus_cv = cv.fit_transform(data)\n",
    "feats = cv.get_feature_names()\n",
    "\n",
    "corpus_array = corpus_cv.toarray()\n",
    "\n",
    "df = pd.DataFrame(corpus_array, columns = feats)"
   ]
  },
  {
   "cell_type": "code",
   "execution_count": 6,
   "metadata": {},
   "outputs": [
    {
     "data": {
      "text/plain": [
       "0    364\n",
       "1    542\n",
       "2    556\n",
       "3    484\n",
       "dtype: int64"
      ]
     },
     "execution_count": 6,
     "metadata": {},
     "output_type": "execute_result"
    }
   ],
   "source": [
    "(df == 0).astype(int).sum(axis=1) "
   ]
  },
  {
   "cell_type": "code",
   "execution_count": 7,
   "metadata": {},
   "outputs": [
    {
     "data": {
      "text/plain": [
       "0    0.543284\n",
       "1    0.808955\n",
       "2    0.829851\n",
       "3    0.722388\n",
       "dtype: float64"
      ]
     },
     "execution_count": 7,
     "metadata": {},
     "output_type": "execute_result"
    }
   ],
   "source": [
    "(df == 0).astype(int).sum(axis=1) / df.shape[1]"
   ]
  },
  {
   "cell_type": "code",
   "execution_count": 8,
   "metadata": {},
   "outputs": [
    {
     "data": {
      "text/plain": [
       "(4, 670)"
      ]
     },
     "execution_count": 8,
     "metadata": {},
     "output_type": "execute_result"
    }
   ],
   "source": [
    "df.shape"
   ]
  },
  {
   "cell_type": "code",
   "execution_count": 9,
   "metadata": {},
   "outputs": [
    {
     "data": {
      "text/html": [
       "<div>\n",
       "<style scoped>\n",
       "    .dataframe tbody tr th:only-of-type {\n",
       "        vertical-align: middle;\n",
       "    }\n",
       "\n",
       "    .dataframe tbody tr th {\n",
       "        vertical-align: top;\n",
       "    }\n",
       "\n",
       "    .dataframe thead th {\n",
       "        text-align: right;\n",
       "    }\n",
       "</style>\n",
       "<table border=\"1\" class=\"dataframe\">\n",
       "  <thead>\n",
       "    <tr style=\"text-align: right;\">\n",
       "      <th></th>\n",
       "      <th>10</th>\n",
       "      <th>104th</th>\n",
       "      <th>15</th>\n",
       "      <th>167th</th>\n",
       "      <th>20</th>\n",
       "      <th>2022</th>\n",
       "      <th>22</th>\n",
       "      <th>30</th>\n",
       "      <th>30s</th>\n",
       "      <th>31</th>\n",
       "      <th>...</th>\n",
       "      <th>wide</th>\n",
       "      <th>woman</th>\n",
       "      <th>women</th>\n",
       "      <th>work</th>\n",
       "      <th>workers</th>\n",
       "      <th>writing</th>\n",
       "      <th>year</th>\n",
       "      <th>york</th>\n",
       "      <th>youtube</th>\n",
       "      <th>zero</th>\n",
       "    </tr>\n",
       "  </thead>\n",
       "  <tbody>\n",
       "    <tr>\n",
       "      <th>0</th>\n",
       "      <td>2</td>\n",
       "      <td>0</td>\n",
       "      <td>0</td>\n",
       "      <td>0</td>\n",
       "      <td>0</td>\n",
       "      <td>0</td>\n",
       "      <td>0</td>\n",
       "      <td>0</td>\n",
       "      <td>0</td>\n",
       "      <td>0</td>\n",
       "      <td>...</td>\n",
       "      <td>1</td>\n",
       "      <td>0</td>\n",
       "      <td>0</td>\n",
       "      <td>0</td>\n",
       "      <td>0</td>\n",
       "      <td>1</td>\n",
       "      <td>1</td>\n",
       "      <td>0</td>\n",
       "      <td>0</td>\n",
       "      <td>2</td>\n",
       "    </tr>\n",
       "    <tr>\n",
       "      <th>1</th>\n",
       "      <td>0</td>\n",
       "      <td>0</td>\n",
       "      <td>0</td>\n",
       "      <td>0</td>\n",
       "      <td>0</td>\n",
       "      <td>0</td>\n",
       "      <td>0</td>\n",
       "      <td>0</td>\n",
       "      <td>0</td>\n",
       "      <td>0</td>\n",
       "      <td>...</td>\n",
       "      <td>0</td>\n",
       "      <td>0</td>\n",
       "      <td>0</td>\n",
       "      <td>1</td>\n",
       "      <td>0</td>\n",
       "      <td>0</td>\n",
       "      <td>0</td>\n",
       "      <td>0</td>\n",
       "      <td>1</td>\n",
       "      <td>0</td>\n",
       "    </tr>\n",
       "    <tr>\n",
       "      <th>2</th>\n",
       "      <td>0</td>\n",
       "      <td>1</td>\n",
       "      <td>0</td>\n",
       "      <td>0</td>\n",
       "      <td>1</td>\n",
       "      <td>1</td>\n",
       "      <td>0</td>\n",
       "      <td>0</td>\n",
       "      <td>0</td>\n",
       "      <td>1</td>\n",
       "      <td>...</td>\n",
       "      <td>0</td>\n",
       "      <td>1</td>\n",
       "      <td>1</td>\n",
       "      <td>0</td>\n",
       "      <td>0</td>\n",
       "      <td>0</td>\n",
       "      <td>0</td>\n",
       "      <td>0</td>\n",
       "      <td>0</td>\n",
       "      <td>0</td>\n",
       "    </tr>\n",
       "    <tr>\n",
       "      <th>3</th>\n",
       "      <td>1</td>\n",
       "      <td>0</td>\n",
       "      <td>1</td>\n",
       "      <td>2</td>\n",
       "      <td>1</td>\n",
       "      <td>0</td>\n",
       "      <td>1</td>\n",
       "      <td>1</td>\n",
       "      <td>1</td>\n",
       "      <td>1</td>\n",
       "      <td>...</td>\n",
       "      <td>0</td>\n",
       "      <td>3</td>\n",
       "      <td>0</td>\n",
       "      <td>1</td>\n",
       "      <td>1</td>\n",
       "      <td>0</td>\n",
       "      <td>4</td>\n",
       "      <td>1</td>\n",
       "      <td>0</td>\n",
       "      <td>0</td>\n",
       "    </tr>\n",
       "  </tbody>\n",
       "</table>\n",
       "<p>4 rows × 670 columns</p>\n",
       "</div>"
      ],
      "text/plain": [
       "   10  104th  15  167th  20  2022  22  30  30s  31  ...  wide  woman  women  \\\n",
       "0   2      0   0      0   0     0   0   0    0   0  ...     1      0      0   \n",
       "1   0      0   0      0   0     0   0   0    0   0  ...     0      0      0   \n",
       "2   0      1   0      0   1     1   0   0    0   1  ...     0      1      1   \n",
       "3   1      0   1      2   1     0   1   1    1   1  ...     0      3      0   \n",
       "\n",
       "   work  workers  writing  year  york  youtube  zero  \n",
       "0     0        0        1     1     0        0     2  \n",
       "1     1        0        0     0     0        1     0  \n",
       "2     0        0        0     0     0        0     0  \n",
       "3     1        1        0     4     1        0     0  \n",
       "\n",
       "[4 rows x 670 columns]"
      ]
     },
     "execution_count": 9,
     "metadata": {},
     "output_type": "execute_result"
    }
   ],
   "source": [
    "df"
   ]
  },
  {
   "cell_type": "markdown",
   "metadata": {},
   "source": [
    "(d) DTMs are typically sparse matrices. What do we mean by \"sparse matrix\", and is yours one? How do you know?"
   ]
  },
  {
   "cell_type": "markdown",
   "metadata": {},
   "source": [
    "**Sparse matrix is a matrix with majority of elements as 0.**\n",
    "\n",
    "**My DTM is sparse, its original shape is 4*670, where we have 4 documents and 670 distinct words. However, the vector representation for the first document has 364 zeros, and the one for the second documents has 542 zeros, 556 zeros for the third document and 484 zeros for the forth document.**"
   ]
  },
  {
   "cell_type": "markdown",
   "metadata": {},
   "source": [
    "(e) We also discussed that DTMs require lossy compression. What is meant by \"lossy compression\" and why might it matter for some analyses? Does it matter for yours?"
   ]
  },
  {
   "cell_type": "markdown",
   "metadata": {},
   "source": [
    "**Lossy compression means to discard part of data from DTMs to get a matrix with smaller dimension.**\n",
    "\n",
    "**If we care about the speed to process text and get results, or we know several key word and information to analyse on, lossy compression is a good strategy.**\n",
    "\n",
    "**For my current text, I decide not to use lossy compression, since I still do not have an idea of further hypothesis I would like to test on. It is better preserve all information as lossy compression is an irreversible process.**"
   ]
  },
  {
   "cell_type": "markdown",
   "metadata": {},
   "source": [
    "(f) DTMs do not have to be limited top single words; we can use n-grams as well. Create a DTM based on an n-gram with an *n* size you think is appropriate for your text. (If you think unigrams are most appropriate, indulge me and pick a runner-up :)!)"
   ]
  },
  {
   "cell_type": "code",
   "execution_count": 10,
   "metadata": {},
   "outputs": [
    {
     "name": "stdout",
     "output_type": "stream",
     "text": [
      "(4, 1153)\n"
     ]
    },
    {
     "data": {
      "text/html": [
       "<div>\n",
       "<style scoped>\n",
       "    .dataframe tbody tr th:only-of-type {\n",
       "        vertical-align: middle;\n",
       "    }\n",
       "\n",
       "    .dataframe tbody tr th {\n",
       "        vertical-align: top;\n",
       "    }\n",
       "\n",
       "    .dataframe thead th {\n",
       "        text-align: right;\n",
       "    }\n",
       "</style>\n",
       "<table border=\"1\" class=\"dataframe\">\n",
       "  <thead>\n",
       "    <tr style=\"text-align: right;\">\n",
       "      <th></th>\n",
       "      <th>10 questions</th>\n",
       "      <th>10 sunday</th>\n",
       "      <th>104th avenue</th>\n",
       "      <th>15 man</th>\n",
       "      <th>167th street</th>\n",
       "      <th>20 2022</th>\n",
       "      <th>20 year</th>\n",
       "      <th>2022 neighbor</th>\n",
       "      <th>22 year</th>\n",
       "      <th>30 year</th>\n",
       "      <th>...</th>\n",
       "      <th>work follow</th>\n",
       "      <th>work treatment</th>\n",
       "      <th>workers set</th>\n",
       "      <th>writing query</th>\n",
       "      <th>year old</th>\n",
       "      <th>year week</th>\n",
       "      <th>york man</th>\n",
       "      <th>youtube new</th>\n",
       "      <th>zero actually</th>\n",
       "      <th>zero hand</th>\n",
       "    </tr>\n",
       "  </thead>\n",
       "  <tbody>\n",
       "    <tr>\n",
       "      <th>0</th>\n",
       "      <td>2</td>\n",
       "      <td>0</td>\n",
       "      <td>0</td>\n",
       "      <td>0</td>\n",
       "      <td>0</td>\n",
       "      <td>0</td>\n",
       "      <td>0</td>\n",
       "      <td>0</td>\n",
       "      <td>0</td>\n",
       "      <td>0</td>\n",
       "      <td>...</td>\n",
       "      <td>0</td>\n",
       "      <td>0</td>\n",
       "      <td>0</td>\n",
       "      <td>1</td>\n",
       "      <td>0</td>\n",
       "      <td>1</td>\n",
       "      <td>0</td>\n",
       "      <td>0</td>\n",
       "      <td>1</td>\n",
       "      <td>1</td>\n",
       "    </tr>\n",
       "    <tr>\n",
       "      <th>1</th>\n",
       "      <td>0</td>\n",
       "      <td>0</td>\n",
       "      <td>0</td>\n",
       "      <td>0</td>\n",
       "      <td>0</td>\n",
       "      <td>0</td>\n",
       "      <td>0</td>\n",
       "      <td>0</td>\n",
       "      <td>0</td>\n",
       "      <td>0</td>\n",
       "      <td>...</td>\n",
       "      <td>1</td>\n",
       "      <td>0</td>\n",
       "      <td>0</td>\n",
       "      <td>0</td>\n",
       "      <td>0</td>\n",
       "      <td>0</td>\n",
       "      <td>0</td>\n",
       "      <td>1</td>\n",
       "      <td>0</td>\n",
       "      <td>0</td>\n",
       "    </tr>\n",
       "    <tr>\n",
       "      <th>2</th>\n",
       "      <td>0</td>\n",
       "      <td>0</td>\n",
       "      <td>1</td>\n",
       "      <td>0</td>\n",
       "      <td>0</td>\n",
       "      <td>1</td>\n",
       "      <td>0</td>\n",
       "      <td>1</td>\n",
       "      <td>0</td>\n",
       "      <td>0</td>\n",
       "      <td>...</td>\n",
       "      <td>0</td>\n",
       "      <td>0</td>\n",
       "      <td>0</td>\n",
       "      <td>0</td>\n",
       "      <td>0</td>\n",
       "      <td>0</td>\n",
       "      <td>0</td>\n",
       "      <td>0</td>\n",
       "      <td>0</td>\n",
       "      <td>0</td>\n",
       "    </tr>\n",
       "    <tr>\n",
       "      <th>3</th>\n",
       "      <td>0</td>\n",
       "      <td>1</td>\n",
       "      <td>0</td>\n",
       "      <td>1</td>\n",
       "      <td>2</td>\n",
       "      <td>0</td>\n",
       "      <td>1</td>\n",
       "      <td>0</td>\n",
       "      <td>1</td>\n",
       "      <td>1</td>\n",
       "      <td>...</td>\n",
       "      <td>0</td>\n",
       "      <td>1</td>\n",
       "      <td>1</td>\n",
       "      <td>0</td>\n",
       "      <td>4</td>\n",
       "      <td>0</td>\n",
       "      <td>1</td>\n",
       "      <td>0</td>\n",
       "      <td>0</td>\n",
       "      <td>0</td>\n",
       "    </tr>\n",
       "  </tbody>\n",
       "</table>\n",
       "<p>4 rows × 1153 columns</p>\n",
       "</div>"
      ],
      "text/plain": [
       "   10 questions  10 sunday  104th avenue  15 man  167th street  20 2022  \\\n",
       "0             2          0             0       0             0        0   \n",
       "1             0          0             0       0             0        0   \n",
       "2             0          0             1       0             0        1   \n",
       "3             0          1             0       1             2        0   \n",
       "\n",
       "   20 year  2022 neighbor  22 year  30 year  ...  work follow  work treatment  \\\n",
       "0        0              0        0        0  ...            0               0   \n",
       "1        0              0        0        0  ...            1               0   \n",
       "2        0              1        0        0  ...            0               0   \n",
       "3        1              0        1        1  ...            0               1   \n",
       "\n",
       "   workers set  writing query  year old  year week  york man  youtube new  \\\n",
       "0            0              1         0          1         0            0   \n",
       "1            0              0         0          0         0            1   \n",
       "2            0              0         0          0         0            0   \n",
       "3            1              0         4          0         1            0   \n",
       "\n",
       "   zero actually  zero hand  \n",
       "0              1          1  \n",
       "1              0          0  \n",
       "2              0          0  \n",
       "3              0          0  \n",
       "\n",
       "[4 rows x 1153 columns]"
      ]
     },
     "execution_count": 10,
     "metadata": {},
     "output_type": "execute_result"
    }
   ],
   "source": [
    "ngram = (2,2)\n",
    "cv2 = CountVectorizer(stop_words = 'english', min_df = 0.2, ngram_range = ngram)\n",
    "corpus_cv2 = cv2.fit_transform(data)\n",
    "feats2 = cv2.get_feature_names()\n",
    "\n",
    "corpus_array2 = corpus_cv2.toarray()\n",
    "\n",
    "df2 = pd.DataFrame(corpus_array2, columns = feats2)\n",
    "print(df2.shape)\n",
    "df2"
   ]
  },
  {
   "cell_type": "code",
   "execution_count": 11,
   "metadata": {},
   "outputs": [
    {
     "data": {
      "text/plain": [
       "0    0.559410\n",
       "1    0.804857\n",
       "2    0.875108\n",
       "3    0.759757\n",
       "dtype: float64"
      ]
     },
     "execution_count": 11,
     "metadata": {},
     "output_type": "execute_result"
    }
   ],
   "source": [
    "(df2 == 0).astype(int).sum(axis=1) / df2.shape[1]"
   ]
  },
  {
   "cell_type": "code",
   "execution_count": 12,
   "metadata": {},
   "outputs": [
    {
     "name": "stdout",
     "output_type": "stream",
     "text": [
      "(4, 1251)\n"
     ]
    },
    {
     "data": {
      "text/html": [
       "<div>\n",
       "<style scoped>\n",
       "    .dataframe tbody tr th:only-of-type {\n",
       "        vertical-align: middle;\n",
       "    }\n",
       "\n",
       "    .dataframe tbody tr th {\n",
       "        vertical-align: top;\n",
       "    }\n",
       "\n",
       "    .dataframe thead th {\n",
       "        text-align: right;\n",
       "    }\n",
       "</style>\n",
       "<table border=\"1\" class=\"dataframe\">\n",
       "  <thead>\n",
       "    <tr style=\"text-align: right;\">\n",
       "      <th></th>\n",
       "      <th>10 questions likely</th>\n",
       "      <th>10 sunday cops</th>\n",
       "      <th>104th avenue commerce</th>\n",
       "      <th>15 man appeared</th>\n",
       "      <th>167th street highbridge</th>\n",
       "      <th>167th street refused</th>\n",
       "      <th>20 2022 neighbor</th>\n",
       "      <th>20 year old</th>\n",
       "      <th>2022 neighbor ian</th>\n",
       "      <th>22 year old</th>\n",
       "      <th>...</th>\n",
       "      <th>workers set start</th>\n",
       "      <th>writing query perform</th>\n",
       "      <th>year old man</th>\n",
       "      <th>year old victim</th>\n",
       "      <th>year old woman</th>\n",
       "      <th>year week information</th>\n",
       "      <th>york man punched</th>\n",
       "      <th>youtube new web</th>\n",
       "      <th>zero actually machine</th>\n",
       "      <th>zero hand l2</th>\n",
       "    </tr>\n",
       "  </thead>\n",
       "  <tbody>\n",
       "    <tr>\n",
       "      <th>0</th>\n",
       "      <td>2</td>\n",
       "      <td>0</td>\n",
       "      <td>0</td>\n",
       "      <td>0</td>\n",
       "      <td>0</td>\n",
       "      <td>0</td>\n",
       "      <td>0</td>\n",
       "      <td>0</td>\n",
       "      <td>0</td>\n",
       "      <td>0</td>\n",
       "      <td>...</td>\n",
       "      <td>0</td>\n",
       "      <td>1</td>\n",
       "      <td>0</td>\n",
       "      <td>0</td>\n",
       "      <td>0</td>\n",
       "      <td>1</td>\n",
       "      <td>0</td>\n",
       "      <td>0</td>\n",
       "      <td>1</td>\n",
       "      <td>1</td>\n",
       "    </tr>\n",
       "    <tr>\n",
       "      <th>1</th>\n",
       "      <td>0</td>\n",
       "      <td>0</td>\n",
       "      <td>0</td>\n",
       "      <td>0</td>\n",
       "      <td>0</td>\n",
       "      <td>0</td>\n",
       "      <td>0</td>\n",
       "      <td>0</td>\n",
       "      <td>0</td>\n",
       "      <td>0</td>\n",
       "      <td>...</td>\n",
       "      <td>0</td>\n",
       "      <td>0</td>\n",
       "      <td>0</td>\n",
       "      <td>0</td>\n",
       "      <td>0</td>\n",
       "      <td>0</td>\n",
       "      <td>0</td>\n",
       "      <td>1</td>\n",
       "      <td>0</td>\n",
       "      <td>0</td>\n",
       "    </tr>\n",
       "    <tr>\n",
       "      <th>2</th>\n",
       "      <td>0</td>\n",
       "      <td>0</td>\n",
       "      <td>1</td>\n",
       "      <td>0</td>\n",
       "      <td>0</td>\n",
       "      <td>0</td>\n",
       "      <td>1</td>\n",
       "      <td>0</td>\n",
       "      <td>1</td>\n",
       "      <td>0</td>\n",
       "      <td>...</td>\n",
       "      <td>0</td>\n",
       "      <td>0</td>\n",
       "      <td>0</td>\n",
       "      <td>0</td>\n",
       "      <td>0</td>\n",
       "      <td>0</td>\n",
       "      <td>0</td>\n",
       "      <td>0</td>\n",
       "      <td>0</td>\n",
       "      <td>0</td>\n",
       "    </tr>\n",
       "    <tr>\n",
       "      <th>3</th>\n",
       "      <td>0</td>\n",
       "      <td>1</td>\n",
       "      <td>0</td>\n",
       "      <td>1</td>\n",
       "      <td>1</td>\n",
       "      <td>1</td>\n",
       "      <td>0</td>\n",
       "      <td>1</td>\n",
       "      <td>0</td>\n",
       "      <td>1</td>\n",
       "      <td>...</td>\n",
       "      <td>1</td>\n",
       "      <td>0</td>\n",
       "      <td>2</td>\n",
       "      <td>1</td>\n",
       "      <td>1</td>\n",
       "      <td>0</td>\n",
       "      <td>1</td>\n",
       "      <td>0</td>\n",
       "      <td>0</td>\n",
       "      <td>0</td>\n",
       "    </tr>\n",
       "  </tbody>\n",
       "</table>\n",
       "<p>4 rows × 1251 columns</p>\n",
       "</div>"
      ],
      "text/plain": [
       "   10 questions likely  10 sunday cops  104th avenue commerce  \\\n",
       "0                    2               0                      0   \n",
       "1                    0               0                      0   \n",
       "2                    0               0                      1   \n",
       "3                    0               1                      0   \n",
       "\n",
       "   15 man appeared  167th street highbridge  167th street refused  \\\n",
       "0                0                        0                     0   \n",
       "1                0                        0                     0   \n",
       "2                0                        0                     0   \n",
       "3                1                        1                     1   \n",
       "\n",
       "   20 2022 neighbor  20 year old  2022 neighbor ian  22 year old  ...  \\\n",
       "0                 0            0                  0            0  ...   \n",
       "1                 0            0                  0            0  ...   \n",
       "2                 1            0                  1            0  ...   \n",
       "3                 0            1                  0            1  ...   \n",
       "\n",
       "   workers set start  writing query perform  year old man  year old victim  \\\n",
       "0                  0                      1             0                0   \n",
       "1                  0                      0             0                0   \n",
       "2                  0                      0             0                0   \n",
       "3                  1                      0             2                1   \n",
       "\n",
       "   year old woman  year week information  york man punched  youtube new web  \\\n",
       "0               0                      1                 0                0   \n",
       "1               0                      0                 0                1   \n",
       "2               0                      0                 0                0   \n",
       "3               1                      0                 1                0   \n",
       "\n",
       "   zero actually machine  zero hand l2  \n",
       "0                      1             1  \n",
       "1                      0             0  \n",
       "2                      0             0  \n",
       "3                      0             0  \n",
       "\n",
       "[4 rows x 1251 columns]"
      ]
     },
     "execution_count": 12,
     "metadata": {},
     "output_type": "execute_result"
    }
   ],
   "source": [
    "ngram = (3,3)\n",
    "cv3 = CountVectorizer(stop_words = 'english', min_df = 0.2, ngram_range = ngram)\n",
    "corpus_cv3 = cv3.fit_transform(data)\n",
    "feats3 = cv3.get_feature_names()\n",
    "\n",
    "corpus_array3 = corpus_cv3.toarray()\n",
    "\n",
    "df3 = pd.DataFrame(corpus_array3, columns = feats3)\n",
    "print(df3.shape)\n",
    "df3"
   ]
  },
  {
   "cell_type": "code",
   "execution_count": 13,
   "metadata": {},
   "outputs": [
    {
     "data": {
      "text/plain": [
       "0    0.566747\n",
       "1    0.792966\n",
       "2    0.882494\n",
       "3    0.757794\n",
       "dtype: float64"
      ]
     },
     "execution_count": 13,
     "metadata": {},
     "output_type": "execute_result"
    }
   ],
   "source": [
    "(df3 == 0).astype(int).sum(axis=1) / df3.shape[1]"
   ]
  },
  {
   "cell_type": "markdown",
   "metadata": {},
   "source": [
    "(g) Why did you choose that particular *n* value of n-gram? Did it improve anything in your analysis? Why or why not?"
   ]
  },
  {
   "cell_type": "markdown",
   "metadata": {},
   "source": [
    "**I will stick with the unigram for further analysis because not all n-gram combinations make sense for n > 1, for example, \\\" access value using\\\" as a trigram**"
   ]
  },
  {
   "cell_type": "markdown",
   "metadata": {},
   "source": [
    "(h) Usually when we work with n-grams we retain a few that might matter for our analysis. If there are any such n-grams, please add them to your unigram-based DTM now as unique terms (you can do so however you like). Why did you retain the n-grams that you did? If you are not retaining any n-grams, why not?"
   ]
  },
  {
   "cell_type": "code",
   "execution_count": 14,
   "metadata": {},
   "outputs": [],
   "source": [
    "df['data science'] = [i.count('data science') for i in data]\n",
    "df['machine learning'] = [i.count('machine learning') for i in data]"
   ]
  },
  {
   "cell_type": "code",
   "execution_count": 15,
   "metadata": {},
   "outputs": [
    {
     "data": {
      "text/html": [
       "<div>\n",
       "<style scoped>\n",
       "    .dataframe tbody tr th:only-of-type {\n",
       "        vertical-align: middle;\n",
       "    }\n",
       "\n",
       "    .dataframe tbody tr th {\n",
       "        vertical-align: top;\n",
       "    }\n",
       "\n",
       "    .dataframe thead th {\n",
       "        text-align: right;\n",
       "    }\n",
       "</style>\n",
       "<table border=\"1\" class=\"dataframe\">\n",
       "  <thead>\n",
       "    <tr style=\"text-align: right;\">\n",
       "      <th></th>\n",
       "      <th>10</th>\n",
       "      <th>104th</th>\n",
       "      <th>15</th>\n",
       "      <th>167th</th>\n",
       "      <th>20</th>\n",
       "      <th>2022</th>\n",
       "      <th>22</th>\n",
       "      <th>30</th>\n",
       "      <th>30s</th>\n",
       "      <th>31</th>\n",
       "      <th>...</th>\n",
       "      <th>women</th>\n",
       "      <th>work</th>\n",
       "      <th>workers</th>\n",
       "      <th>writing</th>\n",
       "      <th>year</th>\n",
       "      <th>york</th>\n",
       "      <th>youtube</th>\n",
       "      <th>zero</th>\n",
       "      <th>data science</th>\n",
       "      <th>machine learning</th>\n",
       "    </tr>\n",
       "  </thead>\n",
       "  <tbody>\n",
       "    <tr>\n",
       "      <th>0</th>\n",
       "      <td>2</td>\n",
       "      <td>0</td>\n",
       "      <td>0</td>\n",
       "      <td>0</td>\n",
       "      <td>0</td>\n",
       "      <td>0</td>\n",
       "      <td>0</td>\n",
       "      <td>0</td>\n",
       "      <td>0</td>\n",
       "      <td>0</td>\n",
       "      <td>...</td>\n",
       "      <td>0</td>\n",
       "      <td>0</td>\n",
       "      <td>0</td>\n",
       "      <td>1</td>\n",
       "      <td>1</td>\n",
       "      <td>0</td>\n",
       "      <td>0</td>\n",
       "      <td>2</td>\n",
       "      <td>3</td>\n",
       "      <td>5</td>\n",
       "    </tr>\n",
       "    <tr>\n",
       "      <th>1</th>\n",
       "      <td>0</td>\n",
       "      <td>0</td>\n",
       "      <td>0</td>\n",
       "      <td>0</td>\n",
       "      <td>0</td>\n",
       "      <td>0</td>\n",
       "      <td>0</td>\n",
       "      <td>0</td>\n",
       "      <td>0</td>\n",
       "      <td>0</td>\n",
       "      <td>...</td>\n",
       "      <td>0</td>\n",
       "      <td>1</td>\n",
       "      <td>0</td>\n",
       "      <td>0</td>\n",
       "      <td>0</td>\n",
       "      <td>0</td>\n",
       "      <td>1</td>\n",
       "      <td>0</td>\n",
       "      <td>0</td>\n",
       "      <td>0</td>\n",
       "    </tr>\n",
       "    <tr>\n",
       "      <th>2</th>\n",
       "      <td>0</td>\n",
       "      <td>1</td>\n",
       "      <td>0</td>\n",
       "      <td>0</td>\n",
       "      <td>1</td>\n",
       "      <td>1</td>\n",
       "      <td>0</td>\n",
       "      <td>0</td>\n",
       "      <td>0</td>\n",
       "      <td>1</td>\n",
       "      <td>...</td>\n",
       "      <td>1</td>\n",
       "      <td>0</td>\n",
       "      <td>0</td>\n",
       "      <td>0</td>\n",
       "      <td>0</td>\n",
       "      <td>0</td>\n",
       "      <td>0</td>\n",
       "      <td>0</td>\n",
       "      <td>0</td>\n",
       "      <td>0</td>\n",
       "    </tr>\n",
       "    <tr>\n",
       "      <th>3</th>\n",
       "      <td>1</td>\n",
       "      <td>0</td>\n",
       "      <td>1</td>\n",
       "      <td>2</td>\n",
       "      <td>1</td>\n",
       "      <td>0</td>\n",
       "      <td>1</td>\n",
       "      <td>1</td>\n",
       "      <td>1</td>\n",
       "      <td>1</td>\n",
       "      <td>...</td>\n",
       "      <td>0</td>\n",
       "      <td>1</td>\n",
       "      <td>1</td>\n",
       "      <td>0</td>\n",
       "      <td>4</td>\n",
       "      <td>1</td>\n",
       "      <td>0</td>\n",
       "      <td>0</td>\n",
       "      <td>0</td>\n",
       "      <td>0</td>\n",
       "    </tr>\n",
       "  </tbody>\n",
       "</table>\n",
       "<p>4 rows × 672 columns</p>\n",
       "</div>"
      ],
      "text/plain": [
       "   10  104th  15  167th  20  2022  22  30  30s  31  ...  women  work  workers  \\\n",
       "0   2      0   0      0   0     0   0   0    0   0  ...      0     0        0   \n",
       "1   0      0   0      0   0     0   0   0    0   0  ...      0     1        0   \n",
       "2   0      1   0      0   1     1   0   0    0   1  ...      1     0        0   \n",
       "3   1      0   1      2   1     0   1   1    1   1  ...      0     1        1   \n",
       "\n",
       "   writing  year  york  youtube  zero  data science  machine learning  \n",
       "0        1     1     0        0     2             3                 5  \n",
       "1        0     0     0        1     0             0                 0  \n",
       "2        0     0     0        0     0             0                 0  \n",
       "3        0     4     1        0     0             0                 0  \n",
       "\n",
       "[4 rows x 672 columns]"
      ]
     },
     "execution_count": 15,
     "metadata": {},
     "output_type": "execute_result"
    }
   ],
   "source": [
    "df"
   ]
  },
  {
   "cell_type": "markdown",
   "metadata": {},
   "source": [
    "**I keep \\\"data science\\\" and \\\"machine learning\\\" phrases into DTM, since these two bigrams are widely seen phrases in some of my chosed texts.**"
   ]
  },
  {
   "cell_type": "markdown",
   "metadata": {},
   "source": [
    "(i) Finally, we can also transform documents into numbers using strategies other than simple word counts. Create a DTM for your corpus using TF-IDF scores rather than word counts."
   ]
  },
  {
   "cell_type": "code",
   "execution_count": 16,
   "metadata": {},
   "outputs": [
    {
     "name": "stdout",
     "output_type": "stream",
     "text": [
      "(4, 721)\n"
     ]
    },
    {
     "data": {
      "text/html": [
       "<div>\n",
       "<style scoped>\n",
       "    .dataframe tbody tr th:only-of-type {\n",
       "        vertical-align: middle;\n",
       "    }\n",
       "\n",
       "    .dataframe tbody tr th {\n",
       "        vertical-align: top;\n",
       "    }\n",
       "\n",
       "    .dataframe thead th {\n",
       "        text-align: right;\n",
       "    }\n",
       "</style>\n",
       "<table border=\"1\" class=\"dataframe\">\n",
       "  <thead>\n",
       "    <tr style=\"text-align: right;\">\n",
       "      <th></th>\n",
       "      <th>10</th>\n",
       "      <th>104th</th>\n",
       "      <th>15</th>\n",
       "      <th>167th</th>\n",
       "      <th>20</th>\n",
       "      <th>2022</th>\n",
       "      <th>22</th>\n",
       "      <th>30</th>\n",
       "      <th>30s</th>\n",
       "      <th>31</th>\n",
       "      <th>...</th>\n",
       "      <th>woman</th>\n",
       "      <th>women</th>\n",
       "      <th>work</th>\n",
       "      <th>workers</th>\n",
       "      <th>would</th>\n",
       "      <th>writing</th>\n",
       "      <th>year</th>\n",
       "      <th>york</th>\n",
       "      <th>youtube</th>\n",
       "      <th>zero</th>\n",
       "    </tr>\n",
       "  </thead>\n",
       "  <tbody>\n",
       "    <tr>\n",
       "      <th>0</th>\n",
       "      <td>0.035560</td>\n",
       "      <td>0.000000</td>\n",
       "      <td>0.000000</td>\n",
       "      <td>0.000000</td>\n",
       "      <td>0.000000</td>\n",
       "      <td>0.000000</td>\n",
       "      <td>0.000000</td>\n",
       "      <td>0.000000</td>\n",
       "      <td>0.000000</td>\n",
       "      <td>0.000000</td>\n",
       "      <td>...</td>\n",
       "      <td>0.000000</td>\n",
       "      <td>0.000000</td>\n",
       "      <td>0.000000</td>\n",
       "      <td>0.000000</td>\n",
       "      <td>0.022552</td>\n",
       "      <td>0.022552</td>\n",
       "      <td>0.017780</td>\n",
       "      <td>0.000000</td>\n",
       "      <td>0.000000</td>\n",
       "      <td>0.045103</td>\n",
       "    </tr>\n",
       "    <tr>\n",
       "      <th>1</th>\n",
       "      <td>0.000000</td>\n",
       "      <td>0.000000</td>\n",
       "      <td>0.000000</td>\n",
       "      <td>0.000000</td>\n",
       "      <td>0.000000</td>\n",
       "      <td>0.000000</td>\n",
       "      <td>0.000000</td>\n",
       "      <td>0.000000</td>\n",
       "      <td>0.000000</td>\n",
       "      <td>0.000000</td>\n",
       "      <td>...</td>\n",
       "      <td>0.000000</td>\n",
       "      <td>0.000000</td>\n",
       "      <td>0.021154</td>\n",
       "      <td>0.000000</td>\n",
       "      <td>0.000000</td>\n",
       "      <td>0.000000</td>\n",
       "      <td>0.000000</td>\n",
       "      <td>0.000000</td>\n",
       "      <td>0.026832</td>\n",
       "      <td>0.000000</td>\n",
       "    </tr>\n",
       "    <tr>\n",
       "      <th>2</th>\n",
       "      <td>0.000000</td>\n",
       "      <td>0.061608</td>\n",
       "      <td>0.000000</td>\n",
       "      <td>0.000000</td>\n",
       "      <td>0.048572</td>\n",
       "      <td>0.061608</td>\n",
       "      <td>0.000000</td>\n",
       "      <td>0.000000</td>\n",
       "      <td>0.000000</td>\n",
       "      <td>0.048572</td>\n",
       "      <td>...</td>\n",
       "      <td>0.048572</td>\n",
       "      <td>0.061608</td>\n",
       "      <td>0.000000</td>\n",
       "      <td>0.000000</td>\n",
       "      <td>0.000000</td>\n",
       "      <td>0.000000</td>\n",
       "      <td>0.000000</td>\n",
       "      <td>0.000000</td>\n",
       "      <td>0.000000</td>\n",
       "      <td>0.000000</td>\n",
       "    </tr>\n",
       "    <tr>\n",
       "      <th>3</th>\n",
       "      <td>0.027208</td>\n",
       "      <td>0.000000</td>\n",
       "      <td>0.034511</td>\n",
       "      <td>0.069021</td>\n",
       "      <td>0.027208</td>\n",
       "      <td>0.000000</td>\n",
       "      <td>0.034511</td>\n",
       "      <td>0.034511</td>\n",
       "      <td>0.034511</td>\n",
       "      <td>0.027208</td>\n",
       "      <td>...</td>\n",
       "      <td>0.081625</td>\n",
       "      <td>0.000000</td>\n",
       "      <td>0.027208</td>\n",
       "      <td>0.034511</td>\n",
       "      <td>0.000000</td>\n",
       "      <td>0.000000</td>\n",
       "      <td>0.108834</td>\n",
       "      <td>0.034511</td>\n",
       "      <td>0.000000</td>\n",
       "      <td>0.000000</td>\n",
       "    </tr>\n",
       "  </tbody>\n",
       "</table>\n",
       "<p>4 rows × 721 columns</p>\n",
       "</div>"
      ],
      "text/plain": [
       "         10     104th        15     167th        20      2022        22  \\\n",
       "0  0.035560  0.000000  0.000000  0.000000  0.000000  0.000000  0.000000   \n",
       "1  0.000000  0.000000  0.000000  0.000000  0.000000  0.000000  0.000000   \n",
       "2  0.000000  0.061608  0.000000  0.000000  0.048572  0.061608  0.000000   \n",
       "3  0.027208  0.000000  0.034511  0.069021  0.027208  0.000000  0.034511   \n",
       "\n",
       "         30       30s        31  ...     woman     women      work   workers  \\\n",
       "0  0.000000  0.000000  0.000000  ...  0.000000  0.000000  0.000000  0.000000   \n",
       "1  0.000000  0.000000  0.000000  ...  0.000000  0.000000  0.021154  0.000000   \n",
       "2  0.000000  0.000000  0.048572  ...  0.048572  0.061608  0.000000  0.000000   \n",
       "3  0.034511  0.034511  0.027208  ...  0.081625  0.000000  0.027208  0.034511   \n",
       "\n",
       "      would   writing      year      york   youtube      zero  \n",
       "0  0.022552  0.022552  0.017780  0.000000  0.000000  0.045103  \n",
       "1  0.000000  0.000000  0.000000  0.000000  0.026832  0.000000  \n",
       "2  0.000000  0.000000  0.000000  0.000000  0.000000  0.000000  \n",
       "3  0.000000  0.000000  0.108834  0.034511  0.000000  0.000000  \n",
       "\n",
       "[4 rows x 721 columns]"
      ]
     },
     "execution_count": 16,
     "metadata": {},
     "output_type": "execute_result"
    }
   ],
   "source": [
    "from sklearn.feature_extraction.text import TfidfVectorizer\n",
    "tfidf_vec = TfidfVectorizer()\n",
    "corpus_tfidf = tfidf_vec.fit_transform(data)\n",
    "feats_tfidf = tfidf_vec.get_feature_names()\n",
    "\n",
    "corpus_array_tfidf = corpus_tfidf.toarray()\n",
    "\n",
    "df_tfidf = pd.DataFrame(corpus_array_tfidf, columns = feats_tfidf)\n",
    "print(df_tfidf.shape)\n",
    "df_tfidf"
   ]
  },
  {
   "cell_type": "markdown",
   "metadata": {},
   "source": [
    "(j) To make sure we're all clear on what's going on with TF-IDF, what do words in your corpus with high TF-IDF scores represent (i.e., what do we learn about these words given this high score)? What about the words with low TF-IDF scores?"
   ]
  },
  {
   "cell_type": "markdown",
   "metadata": {},
   "source": [
    "**A high TF-IDF score represents the word appear at a relative high frequency in the corresponding text, but not often in other remaining texts.**\n",
    "\n",
    "**A low TF-IDF score means that the corresponding words are quite common and shared with most documents.**\n"
   ]
  },
  {
   "cell_type": "markdown",
   "metadata": {},
   "source": [
    "(k) It may be hard to say until you've done later analyses, but how useful do you think the word count DTM vs. the TF-IDF DTM will be for your analysis? Is one more \"representative\" of your text than the other? On what are you basing this conclusion?"
   ]
  },
  {
   "cell_type": "markdown",
   "metadata": {},
   "source": [
    "**If one's analyses focus on the usage of certain words in a type of texts, count DTM is a better choice since it maintains the original frequency of each word.**\n",
    "\n",
    "**If one is curious about how documents share common characteristics or how documents differ from each other, TF-IDF DTM is a better choice because it can also catch the relationship between documents to some degree.**"
   ]
  },
  {
   "cell_type": "markdown",
   "metadata": {},
   "source": [
    "## 3. Characterising documents"
   ]
  },
  {
   "cell_type": "markdown",
   "metadata": {},
   "source": [
    "(a) It's time to start doing some descriptive analyses of our corpus. First, let's evaluate whether our corpus is the first text in the history of the world to violate Zipf's law. Generate a term frequency plot below. (If you removed stop words previously, you may need to put them temporarily back in.)"
   ]
  },
  {
   "cell_type": "code",
   "execution_count": 17,
   "metadata": {},
   "outputs": [
    {
     "name": "stdout",
     "output_type": "stream",
     "text": [
      "(2, 523)\n"
     ]
    },
    {
     "data": {
      "text/html": [
       "<div>\n",
       "<style scoped>\n",
       "    .dataframe tbody tr th:only-of-type {\n",
       "        vertical-align: middle;\n",
       "    }\n",
       "\n",
       "    .dataframe tbody tr th {\n",
       "        vertical-align: top;\n",
       "    }\n",
       "\n",
       "    .dataframe thead th {\n",
       "        text-align: right;\n",
       "    }\n",
       "</style>\n",
       "<table border=\"1\" class=\"dataframe\">\n",
       "  <thead>\n",
       "    <tr style=\"text-align: right;\">\n",
       "      <th></th>\n",
       "      <th>10</th>\n",
       "      <th>about</th>\n",
       "      <th>access</th>\n",
       "      <th>accuracy</th>\n",
       "      <th>act</th>\n",
       "      <th>actually</th>\n",
       "      <th>adding</th>\n",
       "      <th>addition</th>\n",
       "      <th>address</th>\n",
       "      <th>adds</th>\n",
       "      <th>...</th>\n",
       "      <th>within</th>\n",
       "      <th>without</th>\n",
       "      <th>work</th>\n",
       "      <th>would</th>\n",
       "      <th>writing</th>\n",
       "      <th>year</th>\n",
       "      <th>you</th>\n",
       "      <th>your</th>\n",
       "      <th>youtube</th>\n",
       "      <th>zero</th>\n",
       "    </tr>\n",
       "  </thead>\n",
       "  <tbody>\n",
       "    <tr>\n",
       "      <th>0</th>\n",
       "      <td>2</td>\n",
       "      <td>2</td>\n",
       "      <td>2</td>\n",
       "      <td>4</td>\n",
       "      <td>1</td>\n",
       "      <td>1</td>\n",
       "      <td>1</td>\n",
       "      <td>1</td>\n",
       "      <td>1</td>\n",
       "      <td>1</td>\n",
       "      <td>...</td>\n",
       "      <td>0</td>\n",
       "      <td>1</td>\n",
       "      <td>0</td>\n",
       "      <td>1</td>\n",
       "      <td>1</td>\n",
       "      <td>1</td>\n",
       "      <td>12</td>\n",
       "      <td>4</td>\n",
       "      <td>0</td>\n",
       "      <td>2</td>\n",
       "    </tr>\n",
       "    <tr>\n",
       "      <th>1</th>\n",
       "      <td>0</td>\n",
       "      <td>0</td>\n",
       "      <td>0</td>\n",
       "      <td>0</td>\n",
       "      <td>0</td>\n",
       "      <td>0</td>\n",
       "      <td>0</td>\n",
       "      <td>0</td>\n",
       "      <td>0</td>\n",
       "      <td>0</td>\n",
       "      <td>...</td>\n",
       "      <td>2</td>\n",
       "      <td>0</td>\n",
       "      <td>1</td>\n",
       "      <td>0</td>\n",
       "      <td>0</td>\n",
       "      <td>0</td>\n",
       "      <td>3</td>\n",
       "      <td>0</td>\n",
       "      <td>1</td>\n",
       "      <td>0</td>\n",
       "    </tr>\n",
       "  </tbody>\n",
       "</table>\n",
       "<p>2 rows × 523 columns</p>\n",
       "</div>"
      ],
      "text/plain": [
       "   10  about  access  accuracy  act  actually  adding  addition  address  \\\n",
       "0   2      2       2         4    1         1       1         1        1   \n",
       "1   0      0       0         0    0         0       0         0        0   \n",
       "\n",
       "   adds  ...  within  without  work  would  writing  year  you  your  youtube  \\\n",
       "0     1  ...       0        1     0      1        1     1   12     4        0   \n",
       "1     0  ...       2        0     1      0        0     0    3     0        1   \n",
       "\n",
       "   zero  \n",
       "0     2  \n",
       "1     0  \n",
       "\n",
       "[2 rows x 523 columns]"
      ]
     },
     "execution_count": 17,
     "metadata": {},
     "output_type": "execute_result"
    }
   ],
   "source": [
    "count = CountVectorizer()\n",
    "corpus_count = count.fit_transform([text1.lower(), text2.lower()])\n",
    "feats_count = count.get_feature_names()\n",
    "\n",
    "corpus_array_count = corpus_count.toarray()\n",
    "\n",
    "df_count = pd.DataFrame(corpus_array_count, columns = feats_count)\n",
    "print(df_count.shape)\n",
    "df_count"
   ]
  },
  {
   "cell_type": "code",
   "execution_count": 18,
   "metadata": {},
   "outputs": [
    {
     "data": {
      "text/plain": [
       "Text(0.5, 1.0, 'Word Frequency of the 1st Document')"
      ]
     },
     "execution_count": 18,
     "metadata": {},
     "output_type": "execute_result"
    },
    {
     "data": {
      "image/png": "[encoded data removed]",
      "text/plain": [
       "<Figure size 2160x576 with 1 Axes>"
      ]
     },
     "metadata": {
      "needs_background": "light"
     },
     "output_type": "display_data"
    }
   ],
   "source": [
    "import matplotlib.pyplot as plt\n",
    "import numpy as np\n",
    "bar1 = df_count.iloc[0].sort_values(ascending = False)\n",
    "index1 = bar1.index\n",
    "plt.figure(figsize=(30,8))\n",
    "plt.bar(index1, bar1)\n",
    "plt.xticks(rotation = 90)\n",
    "plt.title('Word Frequency of the 1st Document')"
   ]
  },
  {
   "cell_type": "code",
   "execution_count": 20,
   "metadata": {},
   "outputs": [
    {
     "data": {
      "text/plain": [
       "Text(0.5, 1.0, 'Word Frequency of the 2nd Document')"
      ]
     },
     "execution_count": 20,
     "metadata": {},
     "output_type": "execute_result"
    },
    {
     "data": {
      "image/png": "[encoded data removed]",
      "text/plain": [
       "<Figure size 2160x576 with 1 Axes>"
      ]
     },
     "metadata": {
      "needs_background": "light"
     },
     "output_type": "display_data"
    }
   ],
   "source": [
    "bar2 = df_count.iloc[1].sort_values(ascending = False)\n",
    "index2 = bar2.index\n",
    "plt.figure(figsize=(30,8))\n",
    "plt.bar(index2, bar2)\n",
    "plt.xticks(rotation = 90)\n",
    "plt.title('Word Frequency of the 2nd Document')"
   ]
  },
  {
   "cell_type": "markdown",
   "metadata": {},
   "source": [
    "(b) How did your corpus do? Have we stumbled upon a new discovery?"
   ]
  },
  {
   "cell_type": "markdown",
   "metadata": {},
   "source": [
    "**The word frequency curves of two documents roughly obey the Zipf\\'s Law, and the most common word is \\\"the\\\". However, the rule that the most frequent word will occur approximately 3x as often as the third most frequent word and so on does not quit hold for these two documents, probably because they are still relatively short texts and we do not have enough samples to perfectly show the Zipf\\'s Law**"
   ]
  },
  {
   "cell_type": "markdown",
   "metadata": {},
   "source": [
    "(c) BTW: Which explanation for Zipf's law in the context of language do you find most compelling, and why?"
   ]
  },
  {
   "cell_type": "markdown",
   "metadata": {},
   "source": [
    "**It\\'s compelling to say that only a few words are used often, most are used very rarely. we indeed use definition article, conjunction and preposition a lot, because they make our sentences smooth and clear.**"
   ]
  },
  {
   "cell_type": "markdown",
   "metadata": {},
   "source": [
    "(d) We're now going to choose some key words for your corpus. These are words that \"characterise\" or are especially informative of your corpus. You can use either frequently appearing words, words with high TF-IDF scores, or something else, such as using some other rule (e.g., \"proper nouns\") or simply choosing the words you're most interested in. List five key words below and why you've chosen them. If you don't have as many as five, explain why not."
   ]
  },
  {
   "cell_type": "code",
   "execution_count": 22,
   "metadata": {},
   "outputs": [
    {
     "data": {
      "text/plain": [
       "data           0.451031\n",
       "model          0.338273\n",
       "task           0.180412\n",
       "overfitting    0.180412\n",
       "main           0.157861\n",
       "Name: 0, dtype: float64"
      ]
     },
     "execution_count": 22,
     "metadata": {},
     "output_type": "execute_result"
    }
   ],
   "source": [
    "df_tfidf.iloc[0].sort_values(ascending = False).head()"
   ]
  },
  {
   "cell_type": "code",
   "execution_count": 23,
   "metadata": {},
   "outputs": [
    {
     "data": {
      "text/plain": [
       "function         0.550017\n",
       "parameters       0.375645\n",
       "following        0.348813\n",
       "configuration    0.187822\n",
       "gives            0.187822\n",
       "Name: 1, dtype: float64"
      ]
     },
     "execution_count": 23,
     "metadata": {},
     "output_type": "execute_result"
    }
   ],
   "source": [
    "df_tfidf.iloc[1].sort_values(ascending = False).head()"
   ]
  },
  {
   "cell_type": "markdown",
   "metadata": {},
   "source": [
    "**I sort tf_idf vector of each documents, and choose the words with high tf_idf score. They are \\\"data\\\", \\\"model\\\", \\\"function\\\", \\\"parameter\\\",\\\"following\\\".**\n",
    "\n",
    "**This seems to be reasonable choice because all five words are often used in articles with the topic of data science.**"
   ]
  },
  {
   "cell_type": "markdown",
   "metadata": {},
   "source": [
    "(e) We're going to inspect concordance plots, or \"key word in context\" (KWIC) plots now. Before we do, generate one hypothesis you can test with a KWIC plot. For example, you could test whether two key words typically have different contexts around them, or whether one key word's contex has changed over time."
   ]
  },
  {
   "cell_type": "markdown",
   "metadata": {},
   "source": [
    "**I wonder if word \\\"data\\\" is used in different contexts.**"
   ]
  },
  {
   "cell_type": "markdown",
   "metadata": {},
   "source": [
    "(f) Testing time! Generate the relevant plots!"
   ]
  },
  {
   "cell_type": "markdown",
   "metadata": {},
   "source": [
    "# TODO: use original text VS text after tokenized ??"
   ]
  },
  {
   "cell_type": "code",
   "execution_count": 24,
   "metadata": {},
   "outputs": [
    {
     "name": "stdout",
     "output_type": "stream",
     "text": [
      "Displaying 18 of 18 matches:\n",
      "The popularity of data science attracts a lot of people fro\n",
      "r change with the goal of becoming a data scientist.Despite the high demand fo\n",
      "cientist.Despite the high demand for data scientists , it is a highly challeng\n",
      " questions about the fundamentals in data science and machine learning . These\n",
      "ons that are likely to be asked at a data scientist interview.The questions ar\n",
      "al trend or the relationships in the data . If a model is too complex compared\n",
      "model is too complex compared to the data , it will probably be overfitting.A \n",
      ".If it is possible , collecting more data is an efficient way to reduce overfi\n",
      "l have more material to learn from . Data is always valuable especially for ma\n",
      "e have labelled observations ( i.e . data points ) . We train a model with lab\n",
      "s ) . We train a model with labelled data and expect it to predict the labels \n",
      "their shopping behavior.The built-in data structures are of crucial importance\n",
      " set , and tuple are 4 main built-in data structures in Python.The main differ\n",
      " is an extremely important skill for data scientists . There are quite a numbe\n",
      "number of companies that store their data in a relational database . SQL is wh\n",
      "e goal of normalization is to reduce data redundancy and inconsistency by incr\n",
      "It is a challenging task to become a data scientist . It requires time , effor\n",
      "hat you are likely to encounter in a data scientist interview.Thank you for re\n"
     ]
    }
   ],
   "source": [
    "from nltk.text import Text\n",
    "from nltk import word_tokenize\n",
    "t = Text(word_tokenize(text1))\n",
    "t.concordance('data')"
   ]
  },
  {
   "cell_type": "markdown",
   "metadata": {},
   "source": [
    "(g) How did your hypothesis do? As ever, no need to worry about statistical significance right now -- and this inspection in particular is pretty analog. But please comment on whether the differences you hypothesized were borne out, and how you reached that conclusion."
   ]
  },
  {
   "cell_type": "markdown",
   "metadata": {},
   "source": [
    "**The word \\\"data\\\" have three main usages.**\n",
    "\n",
    "**1. We can use \\\"data\\\" by itself to reprensent the collected information.**\n",
    "\n",
    "**2. We can use it as \\\"data science\\\" or \\\"data scientist\\\" to refer to specific field or profession.**\n",
    "\n",
    "**3. We can use it as an adjective noun to describe other noun, like \\\"data point\\\", \\\"data redundancy\\\"**"
   ]
  },
  {
   "cell_type": "markdown",
   "metadata": {},
   "source": [
    "(h) We're going to do the same exercise for lexical dispersion plots. Again, they're pretty low-tech as NLP goes, but depending on your corpus could yield interesting insights. Generate one hypothesis about your corpus that you can test with a lexical dispersion plot(s)."
   ]
  },
  {
   "cell_type": "markdown",
   "metadata": {},
   "source": [
    "**The hypothesis to test is whether \\\"following\\\" and \\\"function\\\" are used together in the second document.**\n",
    "\n",
    "**Imagine the case that one want to explain a statistical concept, one could use a similar sentence like \\\"Let\\'s look at the following functions...\\\"**"
   ]
  },
  {
   "cell_type": "markdown",
   "metadata": {},
   "source": [
    "(i) Ok, generate your plots!"
   ]
  },
  {
   "cell_type": "code",
   "execution_count": 25,
   "metadata": {},
   "outputs": [
    {
     "data": {
      "image/png": "[encoded data removed]",
      "text/plain": [
       "<Figure size 432x288 with 1 Axes>"
      ]
     },
     "metadata": {
      "needs_background": "light"
     },
     "output_type": "display_data"
    }
   ],
   "source": [
    "from nltk.draw.dispersion import dispersion_plot\n",
    "\n",
    "#plt.figure(figsize=(12,9))\n",
    "targets = ['function','following','parameter']\n",
    "dispersion_plot(tok_doc2, targets, ignore_case=True, title='Lexical Dispersion Plot of 2nd Document')"
   ]
  },
  {
   "cell_type": "markdown",
   "metadata": {},
   "source": [
    "(j) How did your hypothesis do? Briefly explain your assessment."
   ]
  },
  {
   "cell_type": "markdown",
   "metadata": {},
   "source": [
    "**The hypothesis holds for some cases because we can see \\\"following\\\" and \\\"function\\\" show in very close position in the lexical dispersion plot. But the hypothesis doesn't hold for every situtaion, because we can still see the word \\\"following\\\" is used but no word \\\"function\\\" after it.**"
   ]
  },
  {
   "cell_type": "markdown",
   "metadata": {},
   "source": [
    "## 4. Comparing documents: similarity"
   ]
  },
  {
   "cell_type": "markdown",
   "metadata": {},
   "source": [
    "(a) Now we're going to compare documents in your corpus. First, we'll examine similarity. Generate one hypothesis you can test regarding the likely similarity of documents in your corpus (between different types, over time, by different authors, etc.). You may test all documents or some subset -- whatever makes sense for your hypothesis and corpus."
   ]
  },
  {
   "cell_type": "markdown",
   "metadata": {},
   "source": [
    "**The first document is more similar to the second one rather than other remaining documents**"
   ]
  },
  {
   "cell_type": "markdown",
   "metadata": {},
   "source": [
    "(b) Evaluate the cosine similarity between the documents specified in your hypothesis above."
   ]
  },
  {
   "cell_type": "code",
   "execution_count": 26,
   "metadata": {},
   "outputs": [
    {
     "name": "stdout",
     "output_type": "stream",
     "text": [
      "Cosine similarity between the 1st document and 2nd document: 0.053849\n",
      "Cosine similarity between the 1st document and 3rd document: 0.017945\n",
      "Cosine similarity between the 1st document and 4th document: 0.013690\n"
     ]
    }
   ],
   "source": [
    "from sklearn.metrics.pairwise import cosine_similarity\n",
    "sim12 = cosine_similarity([df_tfidf.iloc[0].to_numpy()],[df_tfidf.iloc[1].to_numpy()])\n",
    "sim13 = cosine_similarity([df_tfidf.iloc[0].to_numpy()],[df_tfidf.iloc[2].to_numpy()])\n",
    "sim14 = cosine_similarity([df_tfidf.iloc[0].to_numpy()],[df_tfidf.iloc[3].to_numpy()])\n",
    "print(f'Cosine similarity between the 1st document and 2nd document: {sim12[0][0]:.6f}')\n",
    "print(f'Cosine similarity between the 1st document and 3rd document: {sim13[0][0]:.6f}')\n",
    "print(f'Cosine similarity between the 1st document and 4th document: {sim14[0][0]:.6f}')"
   ]
  },
  {
   "cell_type": "markdown",
   "metadata": {},
   "source": [
    "(c) How did your hypothesis hold up? Briefly explain your assessment."
   ]
  },
  {
   "cell_type": "markdown",
   "metadata": {},
   "source": [
    "**The hypothesis holds because the cosine similarity between the first and second documents is 0.0538, larger than the cosine similarities between the first document and other remaining documents**"
   ]
  },
  {
   "cell_type": "markdown",
   "metadata": {},
   "source": [
    "(d) Now we're going to test your hypothesis using a different distance metric (you can use any you like). Briefly describe which you chose and why (\"I learned Euclidean distance in another class\" is a fine answer here!)."
   ]
  },
  {
   "cell_type": "markdown",
   "metadata": {},
   "source": [
    "**I choose Euclidean distance. It's quite interpretable in 3-dimensional in real-life cases, and I'm curious to see its usage in higher dimension case.**"
   ]
  },
  {
   "cell_type": "markdown",
   "metadata": {},
   "source": [
    "(e) Test your hypothesis using the additional distance metric you selected above."
   ]
  },
  {
   "cell_type": "code",
   "execution_count": 27,
   "metadata": {},
   "outputs": [
    {
     "name": "stdout",
     "output_type": "stream",
     "text": [
      "Euclidean Distance between the 1st document and 2nd document: 1.375610\n",
      "Euclidean Distance between the 1st document and 3rd document: 1.401467\n",
      "Euclidean Distance between the 1st document and 4th document: 1.404500\n"
     ]
    }
   ],
   "source": [
    "from sklearn.metrics.pairwise import euclidean_distances\n",
    "sim12_euc = euclidean_distances([df_tfidf.iloc[0].to_numpy()],[df_tfidf.iloc[1].to_numpy()])\n",
    "sim13_euc = euclidean_distances([df_tfidf.iloc[0].to_numpy()],[df_tfidf.iloc[2].to_numpy()])\n",
    "sim14_euc = euclidean_distances([df_tfidf.iloc[0].to_numpy()],[df_tfidf.iloc[3].to_numpy()])\n",
    "print(f'Euclidean Distance between the 1st document and 2nd document: {sim12_euc[0][0]:.6f}')\n",
    "print(f'Euclidean Distance between the 1st document and 3rd document: {sim13_euc[0][0]:.6f}')\n",
    "print(f'Euclidean Distance between the 1st document and 4th document: {sim14_euc[0][0]:.6f}')"
   ]
  },
  {
   "cell_type": "markdown",
   "metadata": {},
   "source": [
    "(f) How did your hypothesis hold up with this alternative distance metric? Briefly explain your assessment."
   ]
  },
  {
   "cell_type": "markdown",
   "metadata": {},
   "source": [
    "**The hypothesis still holds because the first document and the second documents have smaller Euclidean distance, 1.375 compared to others.**"
   ]
  },
  {
   "cell_type": "markdown",
   "metadata": {},
   "source": [
    "(g) Which distance metric do you think is more appropriate for your corpus, and why?"
   ]
  },
  {
   "cell_type": "markdown",
   "metadata": {},
   "source": [
    "**I choose to stick with cosine similarity, because it always lie in the range [-1,1], and a higher score means higher similarity, which is a relative more smooth logic than Euclidean distance metric**"
   ]
  },
  {
   "cell_type": "markdown",
   "metadata": {},
   "source": [
    "(h) Did anything in this similarity analysis surprise you? Why or why not?"
   ]
  },
  {
   "cell_type": "markdown",
   "metadata": {},
   "source": [
    "**When using cosine similarity, the score of three pairs are quit different that we can see obviously the first document is close to the 2nd document. However, it's not the case when using Euclidean distance metric. All socres are close to 1.4.**\n",
    "\n",
    "**Another thing to point out that it's possible for longer documents to have larger Euclidean distance score, becuase we sum the square of element-wise difference. Even two documents are not quit similar, we could still have large Euclidean distance as we accumulate small difference for many times.**"
   ]
  },
  {
   "cell_type": "markdown",
   "metadata": {},
   "source": [
    "## 5. Comparing documents: diversity & complexity"
   ]
  },
  {
   "cell_type": "markdown",
   "metadata": {},
   "source": [
    "(a) We're going to explore the linguistic diversity and complexity of your corpus. First, a few conceptual questions: what is meant by *lexical diversity*, and why is it so hard to measure?"
   ]
  },
  {
   "cell_type": "markdown",
   "metadata": {},
   "source": [
    "**Lexial diversity is a measure of how diverse a text is or say how many different words, phrases, or any other components of a language are included in the text.**\n",
    "\n",
    "**Since language is a complex system with too many different components to measure, it is even difficuly to find ways to quantify each component and evaluate how each component contributes the lexical diversity.**"
   ]
  },
  {
   "cell_type": "markdown",
   "metadata": {},
   "source": [
    "(b) What are some reasons why we might want to measure the diversity of a document or corpus? (There are no wrong answers except variants on \"none\"!)"
   ]
  },
  {
   "cell_type": "markdown",
   "metadata": {},
   "source": [
    "**Since language is a complex adaptive system, one interesting study could be how language evolves as human develops. In this way, I imagine, the diversity of documents in different time periods can provide us a hint on how language and human activities influence each other.**\n",
    "\n",
    "**There are also other potential applications like evaluting a language model based on how diverse the text is that the model can generate. We can now easily define a language system, while the measurement of lexical diversity provides us a way to compare different language systems horizontally.**"
   ]
  },
  {
   "cell_type": "markdown",
   "metadata": {},
   "source": [
    "(c) What is meant by *linguistic complexity*, and why is it so hard to measure?"
   ]
  },
  {
   "cell_type": "markdown",
   "metadata": {},
   "source": [
    "**Linguistic complexity measures how complex the interaction is between agents.**\n",
    "\n",
    "**Linguistic complexity is sort of mixture of text diveristy, text richness, and sophistication that we have standard metrics for none of them.**"
   ]
  },
  {
   "cell_type": "markdown",
   "metadata": {},
   "source": [
    "(d) What are some reasons why we might want to measure the complexity of a document or corpus? (There are no wrong answers except variants on \"none\"!)"
   ]
  },
  {
   "cell_type": "markdown",
   "metadata": {},
   "source": [
    "**Complexity provides another measurement to compare different lanaguage systems horizontally. We can then work on interesting topics like categorizing texts into different genres, comparing writing styles of different authors, etc.**"
   ]
  },
  {
   "cell_type": "markdown",
   "metadata": {},
   "source": [
    "(e) Generate a hypothesis about the lexical diversity in your corpus -- again, by some subset of documents, or over time, or anything you like. We aren't being too particular about the theoretical motivations behind your hypothesis -- just something you think is even vaguely (hopefully) interesting is fine."
   ]
  },
  {
   "cell_type": "markdown",
   "metadata": {},
   "source": [
    "**The first two texts of my choice have a lower lexical diversity than the later two texts.**"
   ]
  },
  {
   "cell_type": "markdown",
   "metadata": {},
   "source": [
    "(f) Test your hypothesis using one measure of lexical diversity."
   ]
  },
  {
   "cell_type": "code",
   "execution_count": 28,
   "metadata": {},
   "outputs": [],
   "source": [
    "from collections import Counter\n",
    "\n",
    "# unique over total, lower is less diverse\n",
    "def TTR(tokenized_document):\n",
    "    total_types = Counter(tokenized_document)\n",
    "    total_tokens = len(tokenized_document)\n",
    "    TTR = len(total_types) / total_tokens \n",
    "    \n",
    "    return TTR"
   ]
  },
  {
   "cell_type": "code",
   "execution_count": 30,
   "metadata": {},
   "outputs": [
    {
     "name": "stdout",
     "output_type": "stream",
     "text": [
      "The TTR for the 1st document is 0.572139303482587\n",
      "The TTR for the 2nd document is 0.4444444444444444\n",
      "The TTR for the 3rd document is 0.712707182320442\n",
      "The TTR for the 4th document is 0.6130952380952381\n"
     ]
    }
   ],
   "source": [
    "print(f'The TTR for the 1st document is {TTR(tok_doc1)}')\n",
    "print(f'The TTR for the 2nd document is {TTR(tok_doc2)}')\n",
    "print(f'The TTR for the 3rd document is {TTR(tok_doc3)}')\n",
    "print(f'The TTR for the 4th document is {TTR(tok_doc4)}')"
   ]
  },
  {
   "cell_type": "markdown",
   "metadata": {},
   "source": [
    "**The hypothesis holds true that the first two documents has lower lexical diversity.**"
   ]
  },
  {
   "cell_type": "markdown",
   "metadata": {},
   "source": [
    "(g) Test your hypothesis using another measure of lexical diversity."
   ]
  },
  {
   "cell_type": "code",
   "execution_count": 32,
   "metadata": {},
   "outputs": [],
   "source": [
    "import numpy as np\n",
    "\n",
    "# controls for document length\n",
    "def R(tokenized_document):\n",
    "    total_types = Counter(tokenized_document)\n",
    "    total_tokens = len(tokenized_document)\n",
    "    R = len(total_types) / np.sqrt(total_tokens) \n",
    "    \n",
    "    return R"
   ]
  },
  {
   "cell_type": "code",
   "execution_count": 33,
   "metadata": {},
   "outputs": [
    {
     "name": "stdout",
     "output_type": "stream",
     "text": [
      "The Guiraud Index of Lexical Richness for the 1st document is 14.0494861009751\n",
      "The Guiraud Index of Lexical Richness for the 2nd document is 8.0\n",
      "The Guiraud Index of Lexical Richness for the 3rd document is 9.588494486588445\n",
      "The Guiraud Index of Lexical Richness for the 4th document is 11.238221347153608\n"
     ]
    }
   ],
   "source": [
    "print(f'The Guiraud Index of Lexical Richness for the 1st document is {R(tok_doc1)}')\n",
    "print(f'The Guiraud Index of Lexical Richness for the 2nd document is {R(tok_doc2)}')\n",
    "print(f'The Guiraud Index of Lexical Richness for the 3rd document is {R(tok_doc3)}')\n",
    "print(f'The Guiraud Index of Lexical Richness for the 4th document is {R(tok_doc4)}')"
   ]
  },
  {
   "cell_type": "markdown",
   "metadata": {},
   "source": [
    "(h) How did your hypothesis hold up in these two models? Which model of lexical diversity do you think is a better fit for your work, and why? "
   ]
  },
  {
   "cell_type": "code",
   "execution_count": 36,
   "metadata": {},
   "outputs": [
    {
     "name": "stdout",
     "output_type": "stream",
     "text": [
      "The length of 1st tokenized document is 603\n",
      "The length of 2nd tokenized document is 324\n",
      "The length of 3rd tokenized document is 181\n",
      "The length of 4th tokenized document is 336\n"
     ]
    }
   ],
   "source": [
    "print(f'The length of 1st tokenized document is {len(tok_doc1)}')\n",
    "print(f'The length of 2nd tokenized document is {len(tok_doc2)}')\n",
    "print(f'The length of 3rd tokenized document is {len(tok_doc3)}')\n",
    "print(f'The length of 4th tokenized document is {len(tok_doc4)}')"
   ]
  },
  {
   "cell_type": "markdown",
   "metadata": {},
   "source": [
    "**When measuring lexical diversity using Guiraud Index of Lexical Richness, my hypothesis does not hold.**\n",
    "\n",
    "**Notice that the first document is longer than all other documents. Thus Guiraud Index of Lexical Richness is a better choice for my work since it is a metric less sensitive to long text.**"
   ]
  },
  {
   "cell_type": "markdown",
   "metadata": {},
   "source": [
    "(i) We'll do a similar, but shorter analysis for complexity. What's a hypothesis you can test? (Your answers can be brief, as a reminder!)"
   ]
  },
  {
   "cell_type": "markdown",
   "metadata": {},
   "source": [
    "**The first two texts of my choice have a lower linguistic complexity than the later two texts.**"
   ]
  },
  {
   "cell_type": "markdown",
   "metadata": {},
   "source": [
    "(j) Test your hypothesis from above using one measure of complexity. (You won't have to use a second one this time.)"
   ]
  },
  {
   "cell_type": "code",
   "execution_count": 39,
   "metadata": {},
   "outputs": [
    {
     "name": "stdout",
     "output_type": "stream",
     "text": [
      "1st Document\n",
      "Flesch Reading Ease Score is: -580.85\n",
      "Flesch-Kincaid Score is: 243.6\n",
      "2nd Document\n",
      "Flesch Reading Ease Score is: -278.72\n",
      "Flesch-Kincaid Score is: 125.4\n",
      "3rd Document\n",
      "Flesch Reading Ease Score is: -112.25\n",
      "Flesch-Kincaid Score is: 73.9\n",
      "4th Document\n",
      "Flesch Reading Ease Score is: -269.57\n",
      "Flesch-Kincaid Score is: 134.3\n"
     ]
    }
   ],
   "source": [
    "#!pip install textstat --quiet\n",
    "import textstat\n",
    "from nltk.tokenize.treebank import TreebankWordDetokenizer # use this to go from list of tokens back to normally spaced text\n",
    "\n",
    "detok1 = TreebankWordDetokenizer().detokenize(tok_doc1)\n",
    "print('1st Document')\n",
    "print(f'Flesch Reading Ease Score is: {textstat.flesch_reading_ease(detok1)}')\n",
    "print(f'Flesch-Kincaid Score is: {textstat.flesch_kincaid_grade(detok1)}')\n",
    "\n",
    "detok2 = TreebankWordDetokenizer().detokenize(tok_doc2)\n",
    "print('2nd Document')\n",
    "print(f'Flesch Reading Ease Score is: {textstat.flesch_reading_ease(detok2)}')\n",
    "print(f'Flesch-Kincaid Score is: {textstat.flesch_kincaid_grade(detok2)}')\n",
    "\n",
    "detok3 = TreebankWordDetokenizer().detokenize(tok_doc3)\n",
    "print('3rd Document')\n",
    "print(f'Flesch Reading Ease Score is: {textstat.flesch_reading_ease(detok3)}')\n",
    "print(f'Flesch-Kincaid Score is: {textstat.flesch_kincaid_grade(detok3)}')\n",
    "\n",
    "detok4 = TreebankWordDetokenizer().detokenize(tok_doc4)\n",
    "print('4th Document')\n",
    "print(f'Flesch Reading Ease Score is: {textstat.flesch_reading_ease(detok4)}')\n",
    "print(f'Flesch-Kincaid Score is: {textstat.flesch_kincaid_grade(detok4)}')\n"
   ]
  },
  {
   "cell_type": "markdown",
   "metadata": {},
   "source": [
    "(k) How did your hypothesis do? Briefly explain your assessment."
   ]
  },
  {
   "cell_type": "markdown",
   "metadata": {},
   "source": [
    "**My hypothesis on linguistic complexity does not hold from these Flesch Reading Score. They show that the 3rd documents is reltively harder to read for its lowest Flesch-Kincaid Score**"
   ]
  },
  {
   "cell_type": "markdown",
   "metadata": {},
   "source": [
    "(l) Did you learn anything surprising about your corpus or documents during the diversity and complexity analyses? Why or why not?"
   ]
  },
  {
   "cell_type": "markdown",
   "metadata": {},
   "source": [
    "**It is surprising to see the 3rd document being the hardest to read, because it is collected from NewYorkPost. I expect news to be quite readable, but it's not the case for this specific text.**"
   ]
  },
  {
   "cell_type": "markdown",
   "metadata": {},
   "source": [
    "## 6. Sentiment analysis"
   ]
  },
  {
   "cell_type": "markdown",
   "metadata": {},
   "source": [
    "(a) Finally, we're going to conduct sentiment analysis on your corpus. You may use either a dictionary-based analysis or a classifier (or both!). Which approach will you use, and why? (If you're using a dictionary-based approach, comment briefly on which dictionary(ies) may be helpful.)"
   ]
  },
  {
   "cell_type": "markdown",
   "metadata": {},
   "source": [
    "**I will use dictionary-based analysis for this time, because I can directly take use of nltk packages for sentiment\n",
    "lexicon of words.**\n",
    "\n",
    "**Though classifier could potentially yield more accurate results, we need to feed plenty of labeled data to train the classifier. However, for now, I do not have those labled training data ready with me.**"
   ]
  },
  {
   "cell_type": "markdown",
   "metadata": {},
   "source": [
    "(b) Generate one hypothesis you can test regarding the sentiment of documents in your corpus. This can be about polarity (positive vs. negative) or something else, as is appropriate for your work and interests."
   ]
  },
  {
   "cell_type": "markdown",
   "metadata": {},
   "source": [
    "**The last two texts of my choice is relatively neutral.**"
   ]
  },
  {
   "cell_type": "markdown",
   "metadata": {},
   "source": [
    "(c) Test your hypothesis with sentiment analysis!"
   ]
  },
  {
   "cell_type": "code",
   "execution_count": 45,
   "metadata": {},
   "outputs": [
    {
     "name": "stdout",
     "output_type": "stream",
     "text": [
      "The dictionary-based sentiment score for the 1st document is 18.0\n",
      "The dictionary-based sentiment score for the 2nd document is 0.0\n",
      "The dictionary-based sentiment score for the 3rd document is -29.0\n",
      "The dictionary-based sentiment score for the 4th document is -35.0\n"
     ]
    }
   ],
   "source": [
    "#!pip install Afinn --quiet\n",
    "# sentiment dictionary packages\n",
    "from afinn import Afinn\n",
    "af = Afinn()\n",
    "\n",
    "print(f'The dictionary-based sentiment score for the 1st document is {af.score(text1)}')\n",
    "print(f'The dictionary-based sentiment score for the 2nd document is {af.score(text2)}')\n",
    "print(f'The dictionary-based sentiment score for the 3rd document is {af.score(text3)}')\n",
    "print(f'The dictionary-based sentiment score for the 4th document is {af.score(text4)}')"
   ]
  },
  {
   "cell_type": "markdown",
   "metadata": {},
   "source": [
    "(d) How did your hypothesis hold up? Briefly explain your assessment."
   ]
  },
  {
   "cell_type": "markdown",
   "metadata": {},
   "source": [
    "**My hypothesis doesn't hold to my surprise. The last two documents have negative sentimental scores, meaningly the texts are negative.**\n",
    "\n",
    "**I further inspect two texts, and words like \\\"injury\\\", \\\"dead\\\", \\\"attack\\\" are included in texts that may serve as the main reason for negative sentimental score.**"
   ]
  },
  {
   "cell_type": "markdown",
   "metadata": {},
   "source": [
    "(e) Did anything you learned about your corpus during your sentiment analysis surprise you? Why or why not?"
   ]
  },
  {
   "cell_type": "markdown",
   "metadata": {},
   "source": [
    "**The last two sentimental analysis score is negative, meaningly these two texts are negative. However, these two texts are collected from NewYorkPost that supposed to be objective and neutral. It's possible that dictionary-based sentimental analysis is sensitive to the event that the document describes, i.e. if the event itself is negative and passive, the document always score negative in dictionary-based sentimental analysis even the document is written as objective and neutral as possible.**"
   ]
  },
  {
   "cell_type": "markdown",
   "metadata": {},
   "source": [
    "## 8. Summing up"
   ]
  },
  {
   "cell_type": "markdown",
   "metadata": {},
   "source": [
    "(a) Overall, do you think that these particular analyses were helpful in better understanding your questions and hypotheses about these documents? (It's ok if the answer is no -- not all documents lend themselves to the analyses we've focused on.) Why or why not?"
   ]
  },
  {
   "cell_type": "markdown",
   "metadata": {},
   "source": [
    "**It\\'s somehow helpful to understand more about text of my choice from the aspect of how diverse and complex it is.**\n",
    "\n",
    "**However, it\\'s also kind of difficult to interpret those quantitative score without much context information. Since I only collect four documents, it\\'s not quit clear that if diversity and complexity scores are big or small compared to texts we normally see in our daily life. I should get more interpretable and interesting result after collecting more texts.**"
   ]
  },
  {
   "cell_type": "markdown",
   "metadata": {},
   "source": [
    "(b) What is the greatest strength of the analysis you conducted in this assignment?"
   ]
  },
  {
   "cell_type": "markdown",
   "metadata": {},
   "source": [
    "**I enjoy the process to construct DTMs and to see how to convert textual information to numeric vectors that computer could use. Once we have the numeric embedding of texts, we have the access to potentially quantify languages and apply many machine leanring techniques to yield interesting points.**\n",
    "\n",
    "**I'm also interested in exploring more ways to do textual embedding!**"
   ]
  },
  {
   "cell_type": "markdown",
   "metadata": {},
   "source": [
    "(c) What is the greatest weakness in the analysis you conducted in this assignment? (Remember, your answers can still be brief!)"
   ]
  },
  {
   "cell_type": "markdown",
   "metadata": {},
   "source": [
    "**My sentimental analysis part needs improvement. Since I use dictionary-based approach for sentimental analysis and used given mapping dictionary in Affin module to get the score, scores shown in this notebook might not be the most representing ones of my texts. Future works include manually labeling training data, and training a sentimental classifier.**"
   ]
  },
  {
   "cell_type": "markdown",
   "metadata": {},
   "source": [
    "(d) What is an additional analysis (or analyses) that you imagine you could do in the future that would help you understand the questions you have about this corpus? The main concept we aren't including in this homework is topic modeling, but you're welcome to comment on anything else that perhaps you've encountered in the wild or simply think up on your own!"
   ]
  },
  {
   "cell_type": "markdown",
   "metadata": {},
   "source": [
    "**I\\'m interested in unsupervised topic modeling for a specific type of text sources. Currently, I collect two type of text, one is from towardsDataScience blog and one is from NewYorkPost. I may tend to focus more on the first type in future work to see if I can categorize data science blogs into more detailed topics.**"
   ]
  },
  {
   "cell_type": "markdown",
   "metadata": {},
   "source": [
    "# The end! \n",
    "\n",
    "Congratulations on finishing your second assignment! Hopefully this was a good chance to practice everything we've gone over in class, as well as to have an opportunity to think about analysing texts in the context of hypotheses. And hopefully it was even fun (and not too tedious!!). \n",
    "\n",
    "If nothing else, you've now already done a lot of the work that's needed for the project (potentially, depending on what you decide to work on)!"
   ]
  }
 ],
 "metadata": {
  "kernelspec": {
   "display_name": "Python 3 (ipykernel)",
   "language": "python",
   "name": "python3"
  },
  "language_info": {
   "codemirror_mode": {
    "name": "ipython",
    "version": 3
   },
   "file_extension": ".py",
   "mimetype": "text/x-python",
   "name": "python",
   "nbconvert_exporter": "python",
   "pygments_lexer": "ipython3",
   "version": "3.8.3"
  }
 },
 "nbformat": 4,
 "nbformat_minor": 4
}
